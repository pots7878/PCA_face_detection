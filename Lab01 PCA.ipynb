{
 "cells": [
  {
   "cell_type": "code",
   "execution_count": 2,
   "metadata": {},
   "outputs": [
    {
     "data": {
      "text/plain": [
       "(10304, 400)"
      ]
     },
     "execution_count": 2,
     "metadata": {},
     "output_type": "execute_result"
    }
   ],
   "source": [
    "import os\n",
    "import numpy as np \n",
    "\n",
    "#External library pillow is an image library \n",
    "#that has pgm support\n",
    "from PIL import Image\n",
    "\n",
    "\"\"\"\n",
    "Read in images into program \n",
    "\"\"\"\n",
    "\n",
    "#allocate image array to desired output size of 10304x400\n",
    "img_arr = np.zeros([10304, 400])\n",
    "\n",
    "#initialize iterator \n",
    "k = 0\n",
    "\n",
    "#loop through number of participants (folders) 1-40\n",
    "for i in range(1, len(os.listdir('att_faces'))):\n",
    "    #loop through individual images per participant 1-10\n",
    "    for j in range(1, len(os.listdir('att_faces/s'+str(i)))+1):\n",
    "        #save images to variable \n",
    "        images = 'att_faces/s'+str(i)+'/'+str(j)+'.pgm'\n",
    "        #load image into PIL imager \n",
    "        img = Image.open(images)\n",
    "        #assigned temp image to temporary numpy array \n",
    "        temp = np.array(img)\n",
    "        #reshapre image to desired output size 10304x400\n",
    "        img_arr[:,k] = np.reshape(temp, (temp.shape[0] * temp.shape[1]))\n",
    "        #update iterator \n",
    "        k += 1\n",
    "\n",
    "#print out shape to verify size \n",
    "img_arr.shape"
   ]
  },
  {
   "cell_type": "code",
   "execution_count": 3,
   "metadata": {},
   "outputs": [
    {
     "data": {
      "text/plain": [
       "array([[ 48.,  60.,  39., ..., 125., 119., 125.],\n",
       "       [ 49.,  60.,  44., ..., 119., 120., 124.],\n",
       "       [ 45.,  62.,  53., ..., 124., 120., 124.],\n",
       "       ...,\n",
       "       [ 47.,  32.,  29., ...,  36.,  89.,  36.],\n",
       "       [ 46.,  34.,  26., ...,  39.,  94.,  35.],\n",
       "       [ 46.,  34.,  29., ...,  40.,  85.,  34.]])"
      ]
     },
     "execution_count": 3,
     "metadata": {},
     "output_type": "execute_result"
    }
   ],
   "source": [
    "#convert image matrix img_arr to float \n",
    "img_arr.astype(float)"
   ]
  },
  {
   "cell_type": "code",
   "execution_count": 4,
   "metadata": {},
   "outputs": [
    {
     "data": {
      "text/plain": [
       "array([[48., 60.],\n",
       "       [49., 60.],\n",
       "       [45., 62.],\n",
       "       ...,\n",
       "       [47., 32.],\n",
       "       [46., 34.],\n",
       "       [46., 34.]])"
      ]
     },
     "execution_count": 4,
     "metadata": {},
     "output_type": "execute_result"
    }
   ],
   "source": [
    "img_arr[:,0:2]"
   ]
  },
  {
   "cell_type": "code",
   "execution_count": 9,
   "metadata": {},
   "outputs": [],
   "source": [
    "\"\"\"\n",
    "Separating the datasets \n",
    "\"\"\"\n",
    "test_set = np.zeros([10304,80])\n",
    "train_set = np.zeros([10304,160])\n",
    "gallery_set = np.zeros([10304,160])\n",
    "\n",
    "k = 0\n",
    "\n",
    "for j in range(0,391,10):\n",
    "    test_set[:,k] = img_arr[:,j]\n",
    "    k += 1\n",
    "    test_set[:,k] = img_arr[:,j+1] \n",
    "    k += 1 \n",
    "k = 0\n",
    "\n",
    "for j in range(0, 391,10):\n",
    "    train_set[:,k] = img_arr[:,j+2]\n",
    "    k += 1 \n",
    "    train_set[:,k] = img_arr[:,j+3]\n",
    "    k += 1 \n",
    "    train_set[:,k] = img_arr[:,j+4]\n",
    "    k += 1 \n",
    "    train_set[:,k] = img_arr[:,j+5]\n",
    "    k += 1\n",
    "    \n",
    "k = 0\n",
    "for j in range(0, 391, 10):\n",
    "    gallery_set[:,k] = img_arr[:,j+6]\n",
    "    k += 1\n",
    "    gallery_set[:,k] = img_arr[:,j+7]\n",
    "    k += 1\n",
    "    gallery_set[:,k] = img_arr[:,j+8]\n",
    "    k += 1\n",
    "    gallery_set[:,k] = img_arr[:,j+9]\n",
    "    k += 1"
   ]
  },
  {
   "cell_type": "code",
   "execution_count": 10,
   "metadata": {},
   "outputs": [
    {
     "data": {
      "text/plain": [
       "array([[ 48.,  60.,  35., ...,  75., 119., 127.],\n",
       "       [ 49.,  60.,  36., ...,  77., 121., 131.],\n",
       "       [ 45.,  62.,  37., ...,  75., 123., 128.],\n",
       "       ...,\n",
       "       [ 47.,  32., 144., ..., 116.,  36.,  94.],\n",
       "       [ 46.,  34., 147., ..., 114.,  40.,  84.],\n",
       "       [ 46.,  34., 143., ..., 113.,  36.,  89.]])"
      ]
     },
     "execution_count": 10,
     "metadata": {},
     "output_type": "execute_result"
    }
   ],
   "source": [
    "test_set"
   ]
  },
  {
   "cell_type": "code",
   "execution_count": 11,
   "metadata": {},
   "outputs": [
    {
     "data": {
      "text/plain": [
       "array([[ 39.,  63.,  64., ..., 130., 128., 123.],\n",
       "       [ 44.,  53.,  76., ..., 123., 125., 121.],\n",
       "       [ 53.,  35.,  80., ..., 127., 125., 126.],\n",
       "       ...,\n",
       "       [ 29.,  41.,  35., ...,  33.,  85.,  40.],\n",
       "       [ 26.,  10.,  37., ...,  37.,  90.,  35.],\n",
       "       [ 29.,  24.,  39., ...,  40.,  84.,  42.]])"
      ]
     },
     "execution_count": 11,
     "metadata": {},
     "output_type": "execute_result"
    }
   ],
   "source": [
    "train_set"
   ]
  },
  {
   "cell_type": "code",
   "execution_count": 12,
   "metadata": {},
   "outputs": [
    {
     "data": {
      "text/plain": [
       "array([[ 41.,  44.,  42., ..., 125., 119., 125.],\n",
       "       [ 47.,  43.,  41., ..., 119., 120., 124.],\n",
       "       [ 47.,  32.,  44., ..., 124., 120., 124.],\n",
       "       ...,\n",
       "       [ 35.,  43.,  42., ...,  36.,  89.,  36.],\n",
       "       [ 37.,  43.,  43., ...,  39.,  94.,  35.],\n",
       "       [ 38.,  37.,  41., ...,  40.,  85.,  34.]])"
      ]
     },
     "execution_count": 12,
     "metadata": {},
     "output_type": "execute_result"
    }
   ],
   "source": [
    "gallery_set"
   ]
  },
  {
   "cell_type": "code",
   "execution_count": null,
   "metadata": {},
   "outputs": [],
   "source": []
  }
 ],
 "metadata": {
  "kernelspec": {
   "display_name": "Python 3",
   "language": "python",
   "name": "python3"
  },
  "language_info": {
   "codemirror_mode": {
    "name": "ipython",
    "version": 3
   },
   "file_extension": ".py",
   "mimetype": "text/x-python",
   "name": "python",
   "nbconvert_exporter": "python",
   "pygments_lexer": "ipython3",
   "version": "3.7.0"
  }
 },
 "nbformat": 4,
 "nbformat_minor": 2
}
