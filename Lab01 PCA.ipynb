{
 "cells": [
  {
   "cell_type": "code",
   "execution_count": 1,
   "metadata": {},
   "outputs": [],
   "source": [
    "import os\n",
    "import numpy as np \n",
    "\n",
    "#External library pillow is an image library \n",
    "#that has pgm support\n",
    "from PIL import Image\n",
    "\n",
    "#Read in images and format into matrix of size 10304x400\n",
    "\n",
    "\n",
    "#allocate image array to desired output size of 10304x400\n",
    "img_arr = np.zeros([10304, 400])\n",
    "\n",
    "#initialize iterator \n",
    "k = 0\n",
    "\n",
    "#loop through number of participants (folders) 1-40\n",
    "for i in range(1, len(os.listdir('att_faces'))):\n",
    "    #loop through individual images per participant 1-10\n",
    "    for j in range(1, len(os.listdir('att_faces/s'+str(i)))+1):\n",
    "        #save images to variable \n",
    "        images = 'att_faces/s'+str(i)+'/'+str(j)+'.pgm'\n",
    "        #load image into PIL imager \n",
    "        img = Image.open(images)\n",
    "        #assigned temp image to temporary numpy array \n",
    "        temp = np.array(img)\n",
    "        #reshapre image to desired output size 10304x400\n",
    "        img_arr[:,k] = np.reshape(temp, (temp.shape[0] * temp.shape[1]))\n",
    "        #update iterator \n",
    "        k += 1"
   ]
  },
  {
   "cell_type": "code",
   "execution_count": 2,
   "metadata": {},
   "outputs": [
    {
     "data": {
      "text/plain": [
       "array([[ 48.,  60.,  39., ..., 125., 119., 125.],\n",
       "       [ 49.,  60.,  44., ..., 119., 120., 124.],\n",
       "       [ 45.,  62.,  53., ..., 124., 120., 124.],\n",
       "       ...,\n",
       "       [ 47.,  32.,  29., ...,  36.,  89.,  36.],\n",
       "       [ 46.,  34.,  26., ...,  39.,  94.,  35.],\n",
       "       [ 46.,  34.,  29., ...,  40.,  85.,  34.]])"
      ]
     },
     "execution_count": 2,
     "metadata": {},
     "output_type": "execute_result"
    }
   ],
   "source": [
    "#convert image matrix img_arr to float \n",
    "img_arr.astype(float)"
   ]
  },
  {
   "cell_type": "code",
   "execution_count": 7,
   "metadata": {},
   "outputs": [
    {
     "name": "stdout",
     "output_type": "stream",
     "text": [
      "(10304, 80)\n"
     ]
    }
   ],
   "source": [
    "#Split datasets\n",
    "\n",
    "# create arrays of size 10304xnum of cols for each set \n",
    "test_set = np.zeros([10304,80])\n",
    "train_set = np.zeros([10304,160])\n",
    "gallery_set = np.zeros([10304,160])\n",
    "\n",
    "#set counter \n",
    "k = 0\n",
    "\n",
    "#loop len(num of cols) - 10 with step size of 10\n",
    "#each 10 columns represent a different image of an individual\n",
    "for j in range(0,391,10):\n",
    "    #save first and second image for each person in the test set \n",
    "    test_set[:,k] = img_arr[:,j]\n",
    "    #update counter each time \n",
    "    k += 1\n",
    "    test_set[:,k] = img_arr[:,j+1] \n",
    "    k += 1 \n",
    "print(test_set.shape)\n",
    "\n",
    "#set counter    \n",
    "k = 0\n",
    "\n",
    "#loop len(num of cols) - 10 with step size of 10\n",
    "#each 10 columns represent a different image of an individual\n",
    "for j in range(0, 391,10):\n",
    "    #save third to sixth image per person in training set \n",
    "    train_set[:,k] = img_arr[:,j+2]\n",
    "    #update counter each time \n",
    "    k += 1 \n",
    "    train_set[:,k] = img_arr[:,j+3]\n",
    "    k += 1 \n",
    "    train_set[:,k] = img_arr[:,j+4]\n",
    "    k += 1 \n",
    "    train_set[:,k] = img_arr[:,j+5]\n",
    "    k += 1\n",
    "\n",
    "#set counter\n",
    "k = 0\n",
    "\n",
    "#loop len(num of cols) - 10 with step size of 10\n",
    "#each 10 columns represent a different image of an individual\n",
    "for j in range(0, 391, 10):\n",
    "    #save seventh to 10th image per person in gallery set\n",
    "    gallery_set[:,k] = img_arr[:,j+6]\n",
    "    #update counter each time \n",
    "    k += 1\n",
    "    gallery_set[:,k] = img_arr[:,j+7]\n",
    "    k += 1\n",
    "    gallery_set[:,k] = img_arr[:,j+8]\n",
    "    k += 1\n",
    "    gallery_set[:,k] = img_arr[:,j+9]\n",
    "    k += 1"
   ]
  },
  {
   "cell_type": "code",
   "execution_count": 5,
   "metadata": {},
   "outputs": [
    {
     "data": {
      "text/plain": [
       "(80,)"
      ]
     },
     "execution_count": 5,
     "metadata": {},
     "output_type": "execute_result"
    }
   ],
   "source": [
    "#Calculate the mean of each row in the test_set\n",
    "#axis 1 calculates mean through rows \n",
    "test_means = np.mean(test_set, axis=0)\n",
    "\n",
    "test_means.shape"
   ]
  },
  {
   "cell_type": "code",
   "execution_count": 8,
   "metadata": {},
   "outputs": [],
   "source": [
    "test = np.subtract(test_set, test_means)"
   ]
  },
  {
   "cell_type": "code",
   "execution_count": 9,
   "metadata": {},
   "outputs": [
    {
     "data": {
      "text/plain": [
       "(10304, 80)"
      ]
     },
     "execution_count": 9,
     "metadata": {},
     "output_type": "execute_result"
    }
   ],
   "source": [
    "test.shape"
   ]
  },
  {
   "cell_type": "code",
   "execution_count": null,
   "metadata": {},
   "outputs": [],
   "source": []
  }
 ],
 "metadata": {
  "kernelspec": {
   "display_name": "Python 3",
   "language": "python",
   "name": "python3"
  },
  "language_info": {
   "codemirror_mode": {
    "name": "ipython",
    "version": 3
   },
   "file_extension": ".py",
   "mimetype": "text/x-python",
   "name": "python",
   "nbconvert_exporter": "python",
   "pygments_lexer": "ipython3",
   "version": "3.7.0"
  }
 },
 "nbformat": 4,
 "nbformat_minor": 2
}
