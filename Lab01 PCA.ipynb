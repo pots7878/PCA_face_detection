{
 "cells": [
  {
   "cell_type": "code",
   "execution_count": 40,
   "metadata": {},
   "outputs": [],
   "source": [
    "import os\n",
    "import numpy as np \n",
    "import matplotlib.pyplot as plt \n",
    "%matplotlib inline\n",
    "\n",
    "#External library pillow is an image library \n",
    "#that has pgm support\n",
    "from PIL import Image\n",
    "\n",
    "#Read in images and format into matrix of size 10304x400\n",
    "\n",
    "\n",
    "#allocate image array to desired output size of 10304x400\n",
    "img_arr = np.zeros([10304, 400])\n",
    "\n",
    "#initialize iterator \n",
    "k = 0\n",
    "\n",
    "#loop through number of participants (folders) 1-40\n",
    "for i in range(1, len(os.listdir('att_faces'))):\n",
    "    #loop through individual images per participant 1-10\n",
    "    for j in range(1, len(os.listdir('att_faces/s'+str(i)))+1):\n",
    "        \n",
    "        #save images to variable \n",
    "        images = 'att_faces/s'+str(i)+'/'+str(j)+'.pgm'\n",
    "        \n",
    "        #load image into PIL imager \n",
    "        img = Image.open(images)\n",
    "        \n",
    "        #assigned temp image to temporary numpy array \n",
    "        temp = np.array(img)\n",
    "        \n",
    "        #reshapre image to desired output size 10304x400\n",
    "        img_arr[:,k] = np.reshape(temp, (temp.shape[0] * temp.shape[1]))\n",
    "        \n",
    "        #update iterator \n",
    "        k += 1"
   ]
  },
  {
   "cell_type": "code",
   "execution_count": 41,
   "metadata": {},
   "outputs": [
    {
     "data": {
      "text/plain": [
       "array([[ 48.,  60.,  39., ..., 125., 119., 125.],\n",
       "       [ 49.,  60.,  44., ..., 119., 120., 124.],\n",
       "       [ 45.,  62.,  53., ..., 124., 120., 124.],\n",
       "       ...,\n",
       "       [ 47.,  32.,  29., ...,  36.,  89.,  36.],\n",
       "       [ 46.,  34.,  26., ...,  39.,  94.,  35.],\n",
       "       [ 46.,  34.,  29., ...,  40.,  85.,  34.]])"
      ]
     },
     "execution_count": 41,
     "metadata": {},
     "output_type": "execute_result"
    }
   ],
   "source": [
    "#convert image matrix img_arr to float \n",
    "img_arr.astype(float)"
   ]
  },
  {
   "cell_type": "code",
   "execution_count": 42,
   "metadata": {},
   "outputs": [
    {
     "name": "stdout",
     "output_type": "stream",
     "text": [
      "(10304, 80)\n"
     ]
    }
   ],
   "source": [
    "#Split datasets\n",
    "\n",
    "# create arrays of size 10304xnum of cols for each set \n",
    "test_set = np.zeros([10304,80])\n",
    "train_set = np.zeros([10304,160])\n",
    "gallery_set = np.zeros([10304,160])\n",
    "\n",
    "#set counter \n",
    "k = 0\n",
    "\n",
    "#loop len(num of cols) - 10 with step size of 10\n",
    "#each 10 columns represent a different image of an individual\n",
    "for j in range(0,391,10):\n",
    "    #save first and second image for each person in the test set \n",
    "    test_set[:,k] = img_arr[:,j]\n",
    "    #update counter each time \n",
    "    k += 1\n",
    "    test_set[:,k] = img_arr[:,j+1] \n",
    "    k += 1 \n",
    "\n",
    "#set counter    \n",
    "k = 0\n",
    "\n",
    "#loop len(num of cols) - 10 with step size of 10\n",
    "#each 10 columns represent a different image of an individual\n",
    "for j in range(0, 391,10):\n",
    "    #save third to sixth image per person in training set \n",
    "    train_set[:,k] = img_arr[:,j+2]\n",
    "    #update counter each time \n",
    "    k += 1 \n",
    "    train_set[:,k] = img_arr[:,j+3]\n",
    "    k += 1 \n",
    "    train_set[:,k] = img_arr[:,j+4]\n",
    "    k += 1 \n",
    "    train_set[:,k] = img_arr[:,j+5]\n",
    "    k += 1\n",
    "\n",
    "#set counter\n",
    "k = 0\n",
    "\n",
    "#loop len(num of cols) - 10 with step size of 10\n",
    "#each 10 columns represent a different image of an individual\n",
    "for j in range(0, 391, 10):\n",
    "    #save seventh to 10th image per person in gallery set\n",
    "    gallery_set[:,k] = img_arr[:,j+6]\n",
    "    #update counter each time \n",
    "    k += 1\n",
    "    gallery_set[:,k] = img_arr[:,j+7]\n",
    "    k += 1\n",
    "    gallery_set[:,k] = img_arr[:,j+8]\n",
    "    k += 1\n",
    "    gallery_set[:,k] = img_arr[:,j+9]\n",
    "    k += 1"
   ]
  },
  {
   "cell_type": "code",
   "execution_count": 43,
   "metadata": {},
   "outputs": [],
   "source": [
    "#Calculate the mean of each row in the test_set\n",
    "#axis 0 calculates mean through rows \n",
    "test_means = np.mean(test_set, axis=0)\n",
    "train_means = np.mean(train_set, axis=0)\n",
    "gallery_means = np.mean(gallery_set, axis=0)"
   ]
  },
  {
   "cell_type": "code",
   "execution_count": 44,
   "metadata": {},
   "outputs": [],
   "source": [
    "#center the data by subtracting the mean of each row \n",
    "#with the original data set\n",
    "test_set_centered = np.subtract(test_set, test_means)\n",
    "train_set_centered = np.subtract(train_set, train_means)\n",
    "gallery_set_centered = np.subtract(gallery_set, gallery_means)"
   ]
  },
  {
   "cell_type": "code",
   "execution_count": 48,
   "metadata": {},
   "outputs": [],
   "source": [
    "#find the mean of the original image matrix to find the average face of the entire dataset\n",
    "average_face = np.mean(img_arr, axis=1)\n",
    "#reshape the average_face_output to 112x92 and convert matrix to int \n",
    "average_face_output = np.reshape(average_face, (112,92)).astype(int)"
   ]
  },
  {
   "cell_type": "code",
   "execution_count": 50,
   "metadata": {},
   "outputs": [
    {
     "data": {
      "text/plain": [
       "<matplotlib.image.AxesImage at 0xa92b350>"
      ]
     },
     "execution_count": 50,
     "metadata": {},
     "output_type": "execute_result"
    },
    {
     "data": {
      "image/png": "[encoded data removed]",
      "text/plain": [
       "<Figure size 432x288 with 1 Axes>"
      ]
     },
     "metadata": {
      "needs_background": "light"
     },
     "output_type": "display_data"
    }
   ],
   "source": [
    "#show plot of average face\n",
    "plt.imshow(average_face_output)"
   ]
  },
  {
   "cell_type": "code",
   "execution_count": 70,
   "metadata": {},
   "outputs": [
    {
     "data": {
      "text/plain": [
       "(160, 10304)"
      ]
     },
     "execution_count": 70,
     "metadata": {},
     "output_type": "execute_result"
    }
   ],
   "source": [
    "\"\"\"\n",
    "compute the covariance matrix of the data. \n",
    "The covariance matrix tells us how much each of the \n",
    "columns of the data vary with respect to each other.\n",
    "The diagonal of the covariance matrix is called the \"variance\"\n",
    "as it tells us how much the data within each column of the data\n",
    "matrix varies.\n",
    "\"\"\"\n",
    "\n",
    "centered_train_trans = train_set_centered.transpose()\n",
    "centered_train_trans.shape"
   ]
  },
  {
   "cell_type": "code",
   "execution_count": 91,
   "metadata": {},
   "outputs": [
    {
     "data": {
      "text/plain": [
       "(10304, 160)"
      ]
     },
     "execution_count": 91,
     "metadata": {},
     "output_type": "execute_result"
    }
   ],
   "source": [
    "train_set_centered.shape"
   ]
  },
  {
   "cell_type": "code",
   "execution_count": null,
   "metadata": {},
   "outputs": [],
   "source": []
  }
 ],
 "metadata": {
  "kernelspec": {
   "display_name": "Python 3",
   "language": "python",
   "name": "python3"
  },
  "language_info": {
   "codemirror_mode": {
    "name": "ipython",
    "version": 3
   },
   "file_extension": ".py",
   "mimetype": "text/x-python",
   "name": "python",
   "nbconvert_exporter": "python",
   "pygments_lexer": "ipython3",
   "version": "3.7.0"
  }
 },
 "nbformat": 4,
 "nbformat_minor": 2
}
